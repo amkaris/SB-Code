{
 "cells": [
  {
   "cell_type": "code",
   "execution_count": 1,
   "metadata": {
    "collapsed": true
   },
   "outputs": [],
   "source": [
    "import pandas as pd\n",
    "import pyproj\n",
    "import numpy as np\n",
    "import datetime"
   ]
  },
  {
   "cell_type": "code",
   "execution_count": 2,
   "metadata": {
    "collapsed": true
   },
   "outputs": [],
   "source": [
    "complaints = pd.read_csv('NYPD_Complaint_Map_Historic_.csv', usecols=(0, 1, 2, 7, 10, 13, 19, 20, 21, 22), thousands=',' )\n",
    "subways = pd.read_csv('NYC_Subway_Entrances.csv')"
   ]
  },
  {
   "cell_type": "code",
   "execution_count": 3,
   "metadata": {},
   "outputs": [
    {
     "name": "stdout",
     "output_type": "stream",
     "text": [
      "<class 'pandas.core.frame.DataFrame'>\n",
      "RangeIndex: 5580035 entries, 0 to 5580034\n",
      "Data columns (total 10 columns):\n",
      "CMPLNT_NUM          int64\n",
      "CMPLNT_FR_DT        object\n",
      "CMPLNT_FR_TM        object\n",
      "OFNS_DESC           object\n",
      "CRM_ATPT_CPTD_CD    object\n",
      "BORO_NM             object\n",
      "X_COORD_CD          float64\n",
      "Y_COORD_CD          float64\n",
      "Latitude            float64\n",
      "Longitude           float64\n",
      "dtypes: float64(4), int64(1), object(5)\n",
      "memory usage: 425.7+ MB\n",
      "None\n",
      "-----------------------------\n",
      "   CMPLNT_NUM CMPLNT_FR_DT CMPLNT_FR_TM OFNS_DESC CRM_ATPT_CPTD_CD BORO_NM  \\\n",
      "0   101109527   12/31/2015     23:45:00   FORGERY        COMPLETED   BRONX   \n",
      "\n",
      "   X_COORD_CD  Y_COORD_CD   Latitude  Longitude  \n",
      "0   1007314.0    241257.0  40.828848 -73.916661  \n"
     ]
    }
   ],
   "source": [
    "print(complaints.info())\n",
    "print('-----------------------------')\n",
    "print(complaints.head(1))"
   ]
  },
  {
   "cell_type": "code",
   "execution_count": 4,
   "metadata": {},
   "outputs": [
    {
     "name": "stdout",
     "output_type": "stream",
     "text": [
      "<class 'pandas.core.frame.DataFrame'>\n",
      "RangeIndex: 5580035 entries, 0 to 5580034\n",
      "Data columns (total 10 columns):\n",
      "CMPLNT_NUM          int64\n",
      "CMPLNT_FR_DT        datetime64[ns]\n",
      "CMPLNT_FR_TM        timedelta64[ns]\n",
      "OFNS_DESC           object\n",
      "CRM_ATPT_CPTD_CD    object\n",
      "BORO_NM             object\n",
      "X_COORD_CD          float64\n",
      "Y_COORD_CD          float64\n",
      "Latitude            float64\n",
      "Longitude           float64\n",
      "dtypes: datetime64[ns](1), float64(4), int64(1), object(3), timedelta64[ns](1)\n",
      "memory usage: 425.7+ MB\n",
      "None\n",
      "   CMPLNT_NUM CMPLNT_FR_DT CMPLNT_FR_TM OFNS_DESC CRM_ATPT_CPTD_CD BORO_NM  \\\n",
      "0   101109527   2015-12-31     23:45:00   FORGERY        COMPLETED   BRONX   \n",
      "\n",
      "   X_COORD_CD  Y_COORD_CD   Latitude  Longitude  \n",
      "0   1007314.0    241257.0  40.828848 -73.916661  \n"
     ]
    }
   ],
   "source": [
    "complaints['CMPLNT_FR_DT'] = pd.to_datetime(complaints['CMPLNT_FR_DT'], format = '%m/%d/%Y', errors='coerce' )\n",
    "complaints['CMPLNT_FR_TM'] = pd.to_timedelta(complaints['CMPLNT_FR_TM'], errors='coerce' )\n",
    "print(complaints.info())\n",
    "print(complaints.head(1))"
   ]
  },
  {
   "cell_type": "code",
   "execution_count": 5,
   "metadata": {},
   "outputs": [
    {
     "name": "stdout",
     "output_type": "stream",
     "text": [
      "0\n",
      "684\n",
      "48\n",
      "18892\n",
      "7\n",
      "463\n",
      "195868\n",
      "195868\n",
      "195868\n",
      "195868\n"
     ]
    }
   ],
   "source": [
    "for col in complaints:\n",
    "    print(complaints[col].isnull().values.sum())"
   ]
  },
  {
   "cell_type": "code",
   "execution_count": 6,
   "metadata": {},
   "outputs": [
    {
     "name": "stdout",
     "output_type": "stream",
     "text": [
      "0\n",
      "661\n",
      "46\n",
      "18152\n",
      "6\n",
      "75\n",
      "0\n",
      "0\n",
      "0\n",
      "0\n",
      "--------------------\n",
      "<class 'pandas.core.frame.DataFrame'>\n",
      "Int64Index: 5384167 entries, 0 to 5580034\n",
      "Data columns (total 10 columns):\n",
      "CMPLNT_NUM          int64\n",
      "CMPLNT_FR_DT        datetime64[ns]\n",
      "CMPLNT_FR_TM        timedelta64[ns]\n",
      "OFNS_DESC           object\n",
      "CRM_ATPT_CPTD_CD    object\n",
      "BORO_NM             object\n",
      "X_COORD_CD          float64\n",
      "Y_COORD_CD          float64\n",
      "Latitude            float64\n",
      "Longitude           float64\n",
      "dtypes: datetime64[ns](1), float64(4), int64(1), object(3), timedelta64[ns](1)\n",
      "memory usage: 451.9+ MB\n",
      "None\n",
      "   X_COORD_CD  Y_COORD_CD\n",
      "0   1007314.0    241257.0\n",
      "1   1043991.0    193406.0\n",
      "2    999463.0    231690.0\n",
      "3   1060183.0    177862.0\n",
      "4    987606.0    208148.0\n"
     ]
    }
   ],
   "source": [
    "complaints = complaints.dropna(subset=[['X_COORD_CD', 'Y_COORD_CD', 'Latitude', 'Longitude']])\n",
    "for col in complaints:\n",
    "    print(complaints[col].isnull().values.sum())\n",
    "print('--------------------')\n",
    "print(complaints.info())\n",
    "print(complaints[['X_COORD_CD', 'Y_COORD_CD']].head(5))"
   ]
  },
  {
   "cell_type": "code",
   "execution_count": 7,
   "metadata": {
    "scrolled": true
   },
   "outputs": [
    {
     "name": "stdout",
     "output_type": "stream",
     "text": [
      "['BRONX' 'QUEENS' 'MANHATTAN' 'BROOKLYN' 'STATEN ISLAND']\n"
     ]
    }
   ],
   "source": [
    "#Now to reduce entries even further so there are not roughly 5.4 million. Let's focus on the top 10 \n",
    "#Crimes only from 2016\n",
    "complaints_2016 = complaints[(complaints['CMPLNT_FR_DT'] > datetime.date(2016,1,1)) & (complaints['CMPLNT_FR_DT'] \n",
    "                             < datetime.date(2016,12,31))]\n",
    "#Crimes that occured in Manhattan. First we need to find out how the boro names are stored \n",
    "print(complaints_2016['BORO_NM'].unique())"
   ]
  },
  {
   "cell_type": "code",
   "execution_count": 8,
   "metadata": {},
   "outputs": [
    {
     "name": "stdout",
     "output_type": "stream",
     "text": [
      "<class 'pandas.core.frame.DataFrame'>\n",
      "Int64Index: 110387 entries, 5101986 to 5578367\n",
      "Data columns (total 10 columns):\n",
      "CMPLNT_NUM          110387 non-null int64\n",
      "CMPLNT_FR_DT        110387 non-null datetime64[ns]\n",
      "CMPLNT_FR_TM        110387 non-null timedelta64[ns]\n",
      "OFNS_DESC           110382 non-null object\n",
      "CRM_ATPT_CPTD_CD    110387 non-null object\n",
      "BORO_NM             110387 non-null object\n",
      "X_COORD_CD          110387 non-null float64\n",
      "Y_COORD_CD          110387 non-null float64\n",
      "Latitude            110387 non-null float64\n",
      "Longitude           110387 non-null float64\n",
      "dtypes: datetime64[ns](1), float64(4), int64(1), object(3), timedelta64[ns](1)\n",
      "memory usage: 9.3+ MB\n",
      "None\n"
     ]
    }
   ],
   "source": [
    "#Run the command to only use records that occur in Manhattan\n",
    "complaints_2016_man = complaints_2016[complaints_2016.BORO_NM == 'MANHATTAN']\n",
    "\n",
    "#Check new information\n",
    "print(complaints_2016_man.info())"
   ]
  },
  {
   "cell_type": "code",
   "execution_count": 9,
   "metadata": {
    "scrolled": true
   },
   "outputs": [
    {
     "name": "stdout",
     "output_type": "stream",
     "text": [
      "PETIT LARCENY                           24182\n",
      "GRAND LARCENY                           15697\n",
      "HARRASSMENT 2                           12952\n",
      "ASSAULT 3 & RELATED OFFENSES            10255\n",
      "CRIMINAL MISCHIEF & RELATED OF           9696\n",
      "DANGEROUS DRUGS                          6572\n",
      "OFF. AGNST PUB ORD SENSBLTY &            4527\n",
      "FELONY ASSAULT                           3714\n",
      "ROBBERY                                  2888\n",
      "OFFENSES AGAINST PUBLIC ADMINI           2391\n",
      "BURGLARY                                 2382\n",
      "DANGEROUS WEAPONS                        2288\n",
      "MISCELLANEOUS PENAL LAW                  1967\n",
      "FORGERY                                  1516\n",
      "CRIMINAL TRESPASS                        1352\n",
      "THEFT-FRAUD                              1266\n",
      "VEHICLE AND TRAFFIC LAWS                 1072\n",
      "INTOXICATED & IMPAIRED DRIVING            878\n",
      "FRAUDS                                    815\n",
      "GRAND LARCENY OF MOTOR VEHICLE            720\n",
      "OFFENSES INVOLVING FRAUD                  550\n",
      "POSSESSION OF STOLEN PROPERTY             484\n",
      "OTHER OFFENSES RELATED TO THEF            411\n",
      "OFFENSES AGAINST THE PERSON               297\n",
      "THEFT OF SERVICES                         227\n",
      "NYS LAWS-UNCLASSIFIED FELONY              220\n",
      "FRAUDULENT ACCOSTING                      169\n",
      "UNAUTHORIZED USE OF A VEHICLE             163\n",
      "ARSON                                     128\n",
      "BURGLAR'S TOOLS                           102\n",
      "GAMBLING                                  101\n",
      "OTHER STATE LAWS (NON PENAL LA             86\n",
      "ADMINISTRATIVE CODE                        85\n",
      "MURDER & NON-NEGL. MANSLAUGHTER            38\n",
      "AGRICULTURE & MRKTS LAW-UNCLASSIFIED       36\n",
      "JOSTLING                                   33\n",
      "KIDNAPPING & RELATED OFFENSES              25\n",
      "OFFENSES AGAINST PUBLIC SAFETY             15\n",
      "ALCOHOLIC BEVERAGE CONTROL LAW             12\n",
      "DISORDERLY CONDUCT                         12\n",
      "OFFENSES RELATED TO CHILDREN               11\n",
      "PROSTITUTION & RELATED OFFENSES             8\n",
      "PETIT LARCENY OF MOTOR VEHICLE              6\n",
      "ENDAN WELFARE INCOMP                        6\n",
      "CHILD ABANDONMENT/NON SUPPORT               6\n",
      "OTHER STATE LAWS                            4\n",
      "LOITERING/GAMBLING (CARDS, DIC              3\n",
      "ESCAPE 3                                    3\n",
      "ANTICIPATORY OFFENSES                       2\n",
      "NYS LAWS-UNCLASSIFIED VIOLATION             2\n",
      "OTHER STATE LAWS (NON PENAL LAW)            2\n",
      "LOITERING                                   1\n",
      "NEW YORK CITY HEALTH CODE                   1\n",
      "SEX CRIMES                                  1\n",
      "DISRUPTION OF A RELIGIOUS SERV              1\n",
      "INTOXICATED/IMPAIRED DRIVING                1\n",
      "Name: OFNS_DESC, dtype: int64\n"
     ]
    }
   ],
   "source": [
    "#Use only top occuring crimes\n",
    "print(complaints_2016_man['OFNS_DESC'].value_counts())"
   ]
  },
  {
   "cell_type": "code",
   "execution_count": 10,
   "metadata": {},
   "outputs": [
    {
     "name": "stdout",
     "output_type": "stream",
     "text": [
      "<class 'pandas.core.frame.DataFrame'>\n",
      "Int64Index: 90483 entries, 5101986 to 5578367\n",
      "Data columns (total 10 columns):\n",
      "CMPLNT_NUM          90483 non-null int64\n",
      "CMPLNT_FR_DT        90483 non-null datetime64[ns]\n",
      "CMPLNT_FR_TM        90483 non-null timedelta64[ns]\n",
      "OFNS_DESC           90483 non-null object\n",
      "CRM_ATPT_CPTD_CD    90483 non-null object\n",
      "BORO_NM             90483 non-null object\n",
      "X_COORD_CD          90483 non-null float64\n",
      "Y_COORD_CD          90483 non-null float64\n",
      "Latitude            90483 non-null float64\n",
      "Longitude           90483 non-null float64\n",
      "dtypes: datetime64[ns](1), float64(4), int64(1), object(3), timedelta64[ns](1)\n",
      "memory usage: 7.6+ MB\n",
      "None\n",
      "     index  CMPLNT_NUM CMPLNT_FR_DT CMPLNT_FR_TM      OFNS_DESC  \\\n",
      "0  5101986   190600818   2016-12-30     23:50:00        ROBBERY   \n",
      "1  5101997   475992375   2016-12-30     23:30:00  GRAND LARCENY   \n",
      "\n",
      "  CRM_ATPT_CPTD_CD    BORO_NM  X_COORD_CD  Y_COORD_CD   Latitude  Longitude  \n",
      "0        COMPLETED  MANHATTAN    988225.0    198162.0  40.710593 -73.985664  \n",
      "1        COMPLETED  MANHATTAN    982746.0    206647.0  40.733883 -74.005428  \n"
     ]
    }
   ],
   "source": [
    "#Let's only use the top 10 offenses.\n",
    "list_10 = ['PETIT LARCENY', 'GRAND LARCENY','HARRASSMENT 2', 'ASSAULT 3 & RELATED OFFENSES', 'CRIMINAL MISCHIEF & RELATED OF',\n",
    "          'DANGEROUS DRUGS', 'OFF. AGNST PUB ORD SENSBLTY &', 'FELONY ASSAULT', 'ROBBERY']\n",
    "\n",
    "complaints_10 = complaints_2016_man[complaints_2016_man.OFNS_DESC.isin(list_10)]\n",
    "\n",
    "print(complaints_10.info())\n",
    "\n",
    "#Let's reset the index of the crimes so it starts at 0\n",
    "complaints_10 = complaints_10.reset_index()\n",
    "\n",
    "print(complaints_10.head(2))"
   ]
  },
  {
   "cell_type": "code",
   "execution_count": 11,
   "metadata": {},
   "outputs": [
    {
     "name": "stdout",
     "output_type": "stream",
     "text": [
      "<class 'pandas.core.frame.DataFrame'>\n",
      "RangeIndex: 1928 entries, 0 to 1927\n",
      "Data columns (total 5 columns):\n",
      "OBJECTID    1928 non-null int64\n",
      "URL         1928 non-null object\n",
      "NAME        1899 non-null object\n",
      "the_geom    1928 non-null object\n",
      "LINE        1928 non-null object\n",
      "dtypes: int64(1), object(4)\n",
      "memory usage: 75.4+ KB\n",
      "None\n",
      "-----------------------------\n",
      "   OBJECTID                                URL  \\\n",
      "0      1734  http://web.mta.info/nyct/service/   \n",
      "\n",
      "                                      NAME  \\\n",
      "0  Birchall Ave & Sagamore St at NW corner   \n",
      "\n",
      "                                       the_geom LINE  \n",
      "0  POINT (-73.86835600032798 40.84916900104506)  2-5  \n"
     ]
    }
   ],
   "source": [
    "print(subways.info())\n",
    "print('-----------------------------')\n",
    "print(subways.head(1))"
   ]
  },
  {
   "cell_type": "code",
   "execution_count": 12,
   "metadata": {},
   "outputs": [
    {
     "name": "stdout",
     "output_type": "stream",
     "text": [
      "<class 'pandas.core.frame.DataFrame'>\n",
      "RangeIndex: 1928 entries, 0 to 1927\n",
      "Data columns (total 2 columns):\n",
      "ID      1928 non-null int64\n",
      "geom    1928 non-null object\n",
      "dtypes: int64(1), object(1)\n",
      "memory usage: 30.2+ KB\n",
      "None\n"
     ]
    }
   ],
   "source": [
    "subways_loc = pd.DataFrame(columns=['ID', 'geom'])\n",
    "subways_loc[['ID', 'geom']] = subways[['OBJECTID', 'the_geom']]\n",
    "print (subways_loc.info())"
   ]
  },
  {
   "cell_type": "code",
   "execution_count": 13,
   "metadata": {},
   "outputs": [
    {
     "name": "stdout",
     "output_type": "stream",
     "text": [
      "   point            Longitude            Latitude\n",
      "0  POINT  (-73.86835600032798  40.84916900104506)\n"
     ]
    }
   ],
   "source": [
    "subways_loc = pd.DataFrame(subways_loc.geom.str.split(' ').tolist(),\n",
    "                                   columns = ['point','Longitude', 'Latitude'])\n",
    "print (subways_loc.head(1))"
   ]
  },
  {
   "cell_type": "code",
   "execution_count": 14,
   "metadata": {},
   "outputs": [
    {
     "name": "stdout",
     "output_type": "stream",
     "text": [
      "   point           Longitude           Latitude\n",
      "0  POINT  -73.86835600032798  40.84916900104506\n"
     ]
    }
   ],
   "source": [
    "subways_loc['Longitude'] = subways_loc['Longitude'].map(lambda x: str(x)[1:])\n",
    "subways_loc['Latitude'] = subways_loc['Latitude'].map(lambda x: str(x)[:-1])\n",
    "print (subways_loc.head(1))"
   ]
  },
  {
   "cell_type": "code",
   "execution_count": 15,
   "metadata": {},
   "outputs": [
    {
     "name": "stdout",
     "output_type": "stream",
     "text": [
      "<class 'pandas.core.frame.DataFrame'>\n",
      "RangeIndex: 1928 entries, 0 to 1927\n",
      "Data columns (total 2 columns):\n",
      "Latitude     1928 non-null float64\n",
      "Longitude    1928 non-null float64\n",
      "dtypes: float64(2)\n",
      "memory usage: 30.2 KB\n",
      "None\n"
     ]
    }
   ],
   "source": [
    "subways_loc = subways_loc[['Latitude', 'Longitude']]\n",
    "subways_loc[['Latitude', 'Longitude']] = subways_loc[['Latitude', 'Longitude']].astype(float)\n",
    "print (subways_loc.info())"
   ]
  },
  {
   "cell_type": "code",
   "execution_count": 16,
   "metadata": {
    "collapsed": true
   },
   "outputs": [],
   "source": [
    "WGS84_Z18 = pyproj.Proj(init = \"EPSG:4326\", preserve_units=True)\n",
    "NYS_LIZ = pyproj.Proj(init = \"ESRI:102718\", preserve_units=True)"
   ]
  },
  {
   "cell_type": "code",
   "execution_count": 17,
   "metadata": {},
   "outputs": [
    {
     "name": "stdout",
     "output_type": "stream",
     "text": [
      "    Latitude  Longitude             x              y\n",
      "0  40.849169 -73.868356  1.020671e+06  248679.990550\n",
      "1  40.849128 -73.868213  1.020710e+06  248665.112299\n",
      "2  40.841223 -73.873499  1.019252e+06  245782.869704\n",
      "3  40.841453 -73.872892  1.019420e+06  245866.910219\n",
      "4  40.840815 -73.879623  1.017558e+06  245631.832277\n",
      "<class 'pandas.core.frame.DataFrame'>\n",
      "RangeIndex: 1928 entries, 0 to 1927\n",
      "Data columns (total 4 columns):\n",
      "Latitude     1928 non-null float64\n",
      "Longitude    1928 non-null float64\n",
      "x            1928 non-null float64\n",
      "y            1928 non-null float64\n",
      "dtypes: float64(4)\n",
      "memory usage: 60.3 KB\n",
      "None\n"
     ]
    }
   ],
   "source": [
    "def coord_transform(df):\n",
    "    x = pd.Series()\n",
    "    y = pd.Series()\n",
    "    for idx, val in enumerate(df['Latitude']):\n",
    "        x1, y1 = pyproj.transform(WGS84_Z18, NYS_LIZ, df['Longitude'][idx], df['Latitude'][idx])\n",
    "        x.set_value(idx, x1)\n",
    "        y.set_value(idx, y1)\n",
    "    df['x'] = x\n",
    "    df['y'] = y\n",
    "    return df\n",
    "    \n",
    "subways_loc_trans = coord_transform(subways_loc)\n",
    "\n",
    "#Check to make sure all entries look correct\n",
    "print(subways_loc_trans.head(5))\n",
    "print(subways_loc_trans.info())"
   ]
  },
  {
   "cell_type": "code",
   "execution_count": 18,
   "metadata": {},
   "outputs": [
    {
     "name": "stdout",
     "output_type": "stream",
     "text": [
      "<class 'pandas.core.frame.DataFrame'>\n",
      "RangeIndex: 18097 entries, 36194 to 54290\n",
      "Data columns (total 11 columns):\n",
      "index               18097 non-null int64\n",
      "CMPLNT_NUM          18097 non-null int64\n",
      "CMPLNT_FR_DT        18097 non-null datetime64[ns]\n",
      "CMPLNT_FR_TM        18097 non-null timedelta64[ns]\n",
      "OFNS_DESC           18097 non-null object\n",
      "CRM_ATPT_CPTD_CD    18097 non-null object\n",
      "BORO_NM             18097 non-null object\n",
      "X_COORD_CD          18097 non-null float64\n",
      "Y_COORD_CD          18097 non-null float64\n",
      "Latitude            18097 non-null float64\n",
      "Longitude           18097 non-null float64\n",
      "dtypes: datetime64[ns](1), float64(4), int64(2), object(3), timedelta64[ns](1)\n",
      "memory usage: 1.5+ MB\n",
      "None\n"
     ]
    }
   ],
   "source": [
    "#Need to split up the crimes dataframe so the distance analysis can run without crashing my computer\n",
    "crime1, crime2, crime3, crime4, crime5 = np.array_split(complaints_10, 5)\n",
    "\n",
    "#Check one of the new dfs to make sure it keeps the same index as the original. This is important when merging the distances\n",
    "#later\n",
    "print(crime3.info())"
   ]
  },
  {
   "cell_type": "code",
   "execution_count": 19,
   "metadata": {
    "collapsed": true,
    "scrolled": false
   },
   "outputs": [],
   "source": [
    "#set up column for the minimum distance between a crime and the closest subway station\n",
    "complaints_10['min_dist'] = np.nan"
   ]
  },
  {
   "cell_type": "code",
   "execution_count": 20,
   "metadata": {
    "collapsed": true
   },
   "outputs": [],
   "source": [
    "def min_dist_func(crime_df):\n",
    "    df_new = pd.DataFrame(index = crime_df.index.copy(), columns = subways_loc_trans.index.copy())\n",
    "    df_new['min_dist'] = np.nan\n",
    "    \n",
    "    for idx_crime, x_crime in enumerate(crime_df['X_COORD_CD']):\n",
    "        y_crime = crime_df['Y_COORD_CD'].iloc[idx_crime]\n",
    "        for idx_subway, x_subway in enumerate(subways_loc_trans['x']):\n",
    "            y_subway = subways_loc_trans['y'].iloc[idx_subway]\n",
    "            \n",
    "            dist = np.sqrt((x_crime - x_subway)**2 + (y_crime - y_subway)**2)\n",
    "            df_new.iloc[idx_crime, idx_subway] = dist\n",
    "            \n",
    "    return df_new"
   ]
  },
  {
   "cell_type": "code",
   "execution_count": 21,
   "metadata": {
    "collapsed": true
   },
   "outputs": [],
   "source": [
    "#run min_dist_list with each smaller crime df to obtain lists.\n",
    "min_dist1 = pd.read_csv('min_dist1.csv')\n",
    "min_dist2 = pd.read_csv('min_dist2.csv')\n",
    "min_dist3 = pd.read_csv('min_dist3.csv')\n",
    "min_dist4 = pd.read_csv('mindist4.csv')\n",
    "min_dist5 = pd.read_csv('mindist5.csv')"
   ]
  },
  {
   "cell_type": "markdown",
   "metadata": {
    "collapsed": true
   },
   "source": [
    "#run min_dist_list with each smaller crime df to obtain lists.\n",
    "min_dist1 = min_dist_func(crime1)\n",
    "min_dist2 = min_dist_func(crime2)\n",
    "min_dist3 = min_dist_func(crime3)\n",
    "min_dist4 = min_dist_func(crime4)\n",
    "min_dist5 = min_dist_func(crime5)\n",
    "min_dist6 = min_dist_func(crime6) "
   ]
  },
  {
   "cell_type": "code",
   "execution_count": 22,
   "metadata": {
    "collapsed": true
   },
   "outputs": [],
   "source": [
    "#Extra column in front that has index numbers that should be removed for the min function to work properly\n",
    "min_dist1 = min_dist1.drop(min_dist1.columns[0], axis=1)\n",
    "min_dist2 = min_dist2.drop(min_dist2.columns[0], axis=1)\n",
    "min_dist3 = min_dist3.drop(min_dist3.columns[0], axis=1)\n",
    "min_dist4 = min_dist4.drop(min_dist4.columns[0], axis=1)\n",
    "min_dist5 = min_dist5.drop(min_dist5.columns[0], axis=1)"
   ]
  },
  {
   "cell_type": "code",
   "execution_count": 23,
   "metadata": {
    "scrolled": true
   },
   "outputs": [
    {
     "name": "stdout",
     "output_type": "stream",
     "text": [
      "              0             1             2             3             4  \\\n",
      "0  60039.893248  60048.780567  56836.793693  56998.904505  55801.375809   \n",
      "1  56613.185604  56628.670352  53519.186668  53695.160560  52265.410354   \n",
      "\n",
      "              5             6             7             8            9  \\\n",
      "0  55627.706942  55628.016908  55756.807774  55915.764925  53508.59137   \n",
      "1  52091.489848  52101.566815  52230.221773  52378.512773  49770.99929   \n",
      "\n",
      "     ...             1919          1920          1921          1922  \\\n",
      "0    ...     21746.666295  26277.216938  26280.271461  26221.933542   \n",
      "1    ...     17490.293108  21929.320298  21918.007505  21853.966317   \n",
      "\n",
      "           1923          1924          1925          1926          1927  \\\n",
      "0  25575.753139  28798.075890  28721.289486  28374.177927  28336.698503   \n",
      "1  21216.141172  24343.360018  24266.659246  23976.051940  23893.948188   \n",
      "\n",
      "   min_dist  \n",
      "0       NaN  \n",
      "1       NaN  \n",
      "\n",
      "[2 rows x 1929 columns]\n",
      "----------------\n",
      "              0             1             2             3             4  \\\n",
      "0  28090.880871  28110.513789  25132.158111  25315.504608  23739.473546   \n",
      "1  39340.130098  39360.838272  36411.949694  36595.923941  34997.052752   \n",
      "\n",
      "              5             6             7             8             9  \\\n",
      "0  23568.525659  23585.258280  23711.452542  23849.669611  21156.028965   \n",
      "1  34827.223942  34845.511602  34970.842607  35106.268105  32393.299467   \n",
      "\n",
      "     ...             1919         1920         1921         1922         1923  \\\n",
      "0    ...     12072.889722  7571.584680  7564.745032  7620.315015  8256.068400   \n",
      "1    ...      6734.159964  7177.659887  7141.976862  7100.690610  6855.335047   \n",
      "\n",
      "          1924         1925         1926         1927  min_dist  \n",
      "0  5100.101830  5173.018211  5533.791680  5545.795809       NaN  \n",
      "1  8371.342246  8319.091982  8229.468856  8092.394248       NaN  \n",
      "\n",
      "[2 rows x 1929 columns]\n"
     ]
    }
   ],
   "source": [
    "print(min_dist1.head(2))\n",
    "print('----------------')\n",
    "print(min_dist4.head(2))"
   ]
  },
  {
   "cell_type": "code",
   "execution_count": 24,
   "metadata": {
    "collapsed": true
   },
   "outputs": [],
   "source": [
    "#Find the minimum distance between each crime and the subway stations.\n",
    "min_dist1['min_dist'] = min_dist1.min(axis=1)\n",
    "min_dist2['min_dist'] = min_dist2.min(axis=1)\n",
    "min_dist3['min_dist'] = min_dist3.min(axis=1)\n",
    "min_dist4['min_dist'] = min_dist4.min(axis=1)\n",
    "min_dist5['min_dist'] = min_dist5.min(axis=1)"
   ]
  },
  {
   "cell_type": "code",
   "execution_count": 25,
   "metadata": {},
   "outputs": [
    {
     "name": "stdout",
     "output_type": "stream",
     "text": [
      "0    1463.107789\n",
      "1     644.490852\n",
      "2     401.105386\n",
      "3     870.446335\n",
      "4     169.878256\n",
      "Name: min_dist, dtype: float64\n",
      "----------------\n",
      "0     657.130081\n",
      "1    1120.531803\n",
      "2     338.229271\n",
      "3     371.416604\n",
      "4    1048.321774\n",
      "Name: min_dist, dtype: float64\n"
     ]
    }
   ],
   "source": [
    "print(min_dist1['min_dist'].head())\n",
    "print('----------------')\n",
    "print(min_dist4['min_dist'].head())"
   ]
  },
  {
   "cell_type": "code",
   "execution_count": 26,
   "metadata": {
    "collapsed": true
   },
   "outputs": [],
   "source": [
    "#Concatenate all the min dist values and put into original dataframe\n",
    "min_dist =  pd.concat([min_dist1['min_dist'], min_dist2['min_dist'], min_dist3['min_dist'], \n",
    "                                        min_dist4['min_dist'], min_dist5['min_dist']])"
   ]
  },
  {
   "cell_type": "code",
   "execution_count": 27,
   "metadata": {
    "collapsed": true
   },
   "outputs": [],
   "source": [
    "#In order to not throw an \"cannot reindex from a duplicate axis\" error, I converted the min_dist to values\n",
    "complaints_10['min_dist'] = min_dist.values"
   ]
  },
  {
   "cell_type": "code",
   "execution_count": 28,
   "metadata": {
    "scrolled": true
   },
   "outputs": [
    {
     "name": "stdout",
     "output_type": "stream",
     "text": [
      "     index  CMPLNT_NUM CMPLNT_FR_DT CMPLNT_FR_TM  \\\n",
      "0  5101986   190600818   2016-12-30     23:50:00   \n",
      "1  5101997   475992375   2016-12-30     23:30:00   \n",
      "2  5102004   952833671   2016-12-30     23:15:00   \n",
      "3  5102006   212105306   2016-12-30     23:00:00   \n",
      "4  5102014   344963119   2016-12-30     22:50:00   \n",
      "\n",
      "                      OFNS_DESC CRM_ATPT_CPTD_CD    BORO_NM  X_COORD_CD  \\\n",
      "0                       ROBBERY        COMPLETED  MANHATTAN    988225.0   \n",
      "1                 GRAND LARCENY        COMPLETED  MANHATTAN    982746.0   \n",
      "2                 PETIT LARCENY        COMPLETED  MANHATTAN    987703.0   \n",
      "3  ASSAULT 3 & RELATED OFFENSES        COMPLETED  MANHATTAN    986067.0   \n",
      "4                 HARRASSMENT 2        COMPLETED  MANHATTAN    995159.0   \n",
      "\n",
      "   Y_COORD_CD   Latitude  Longitude     min_dist  \n",
      "0    198162.0  40.710593 -73.985664  1463.107789  \n",
      "1    206647.0  40.733883 -74.005428   644.490852  \n",
      "2    201531.0  40.719840 -73.987545   401.105386  \n",
      "3    199328.0  40.713794 -73.993447   870.446335  \n",
      "4    221254.0  40.773969 -73.960615   169.878256  \n",
      "----------------\n",
      "         index  CMPLNT_NUM CMPLNT_FR_DT CMPLNT_FR_TM        OFNS_DESC  \\\n",
      "90478  5578343   769884347   2016-01-02     00:20:00  DANGEROUS DRUGS   \n",
      "90479  5578344   735773132   2016-01-02     00:20:00    HARRASSMENT 2   \n",
      "90480  5578346   986866385   2016-01-02     00:10:00          ROBBERY   \n",
      "90481  5578358   775874632   2016-01-02     00:00:00  DANGEROUS DRUGS   \n",
      "90482  5578367   408593442   2016-01-02     00:00:00    HARRASSMENT 2   \n",
      "\n",
      "      CRM_ATPT_CPTD_CD    BORO_NM  X_COORD_CD  Y_COORD_CD   Latitude  \\\n",
      "90478        COMPLETED  MANHATTAN    988125.0    215196.0  40.757347   \n",
      "90479        COMPLETED  MANHATTAN    997486.0    239574.0  40.824249   \n",
      "90480        COMPLETED  MANHATTAN   1000558.0    231080.0  40.800930   \n",
      "90481        COMPLETED  MANHATTAN    987472.0    214939.0  40.756642   \n",
      "90482        COMPLETED  MANHATTAN    992729.0    216866.0  40.761928   \n",
      "\n",
      "       Longitude    min_dist  \n",
      "90478 -73.986014  325.048786  \n",
      "90479 -73.952177  867.582258  \n",
      "90480 -73.941098  766.967324  \n",
      "90481 -73.988372  371.416604  \n",
      "90482 -73.969394  282.805381  \n",
      "----------------\n",
      "<class 'pandas.core.frame.DataFrame'>\n",
      "RangeIndex: 90483 entries, 0 to 90482\n",
      "Data columns (total 12 columns):\n",
      "index               90483 non-null int64\n",
      "CMPLNT_NUM          90483 non-null int64\n",
      "CMPLNT_FR_DT        90483 non-null datetime64[ns]\n",
      "CMPLNT_FR_TM        90483 non-null timedelta64[ns]\n",
      "OFNS_DESC           90483 non-null object\n",
      "CRM_ATPT_CPTD_CD    90483 non-null object\n",
      "BORO_NM             90483 non-null object\n",
      "X_COORD_CD          90483 non-null float64\n",
      "Y_COORD_CD          90483 non-null float64\n",
      "Latitude            90483 non-null float64\n",
      "Longitude           90483 non-null float64\n",
      "min_dist            90483 non-null float64\n",
      "dtypes: datetime64[ns](1), float64(5), int64(2), object(3), timedelta64[ns](1)\n",
      "memory usage: 8.3+ MB\n",
      "None\n"
     ]
    }
   ],
   "source": [
    "#Check head, tail, and info on complaints_10 to make sure everything populated.\n",
    "print(complaints_10.head())\n",
    "print('----------------')\n",
    "print(complaints_10.tail())\n",
    "print('----------------')\n",
    "print(complaints_10.info())"
   ]
  },
  {
   "cell_type": "code",
   "execution_count": 29,
   "metadata": {},
   "outputs": [],
   "source": [
    "#In order to be able to sort in chronological order, it would be best to combine the date and time before exporting\n",
    "date_time = pd.to_datetime(complaints_10.CMPLNT_FR_DT) + pd.to_timedelta(complaints_10.CMPLNT_FR_TM)\n",
    "complaints_10['date_time'] = date_time\n",
    "complaints_10 = complaints_10.drop(complaints_10.columns[[0,2, 3]], axis=1)"
   ]
  },
  {
   "cell_type": "code",
   "execution_count": 30,
   "metadata": {},
   "outputs": [],
   "source": [
    "#Reset index to date_time\n",
    "complaints_10.set_index('date_time', drop=True, append=False, inplace=True, verify_integrity=False)"
   ]
  },
  {
   "cell_type": "code",
   "execution_count": 31,
   "metadata": {},
   "outputs": [
    {
     "name": "stdout",
     "output_type": "stream",
     "text": [
      "                     CMPLNT_NUM                       OFNS_DESC  \\\n",
      "date_time                                                         \n",
      "2016-01-02 00:00:00   408593442                   HARRASSMENT 2   \n",
      "2016-01-02 00:00:00   775874632                 DANGEROUS DRUGS   \n",
      "2016-01-02 00:00:00   647885883                   GRAND LARCENY   \n",
      "2016-01-02 00:01:00   961716811  CRIMINAL MISCHIEF & RELATED OF   \n",
      "2016-01-02 00:05:00   217870969                   PETIT LARCENY   \n",
      "\n",
      "                    CRM_ATPT_CPTD_CD    BORO_NM  X_COORD_CD  Y_COORD_CD  \\\n",
      "date_time                                                                 \n",
      "2016-01-02 00:00:00        COMPLETED  MANHATTAN    992729.0    216866.0   \n",
      "2016-01-02 00:00:00        COMPLETED  MANHATTAN    987472.0    214939.0   \n",
      "2016-01-02 00:00:00        COMPLETED  MANHATTAN    991504.0    227286.0   \n",
      "2016-01-02 00:01:00        ATTEMPTED  MANHATTAN    985320.0    199453.0   \n",
      "2016-01-02 00:05:00        COMPLETED  MANHATTAN    998559.0    242439.0   \n",
      "\n",
      "                      Latitude  Longitude     min_dist  \n",
      "date_time                                               \n",
      "2016-01-02 00:00:00  40.761928 -73.969394   282.805381  \n",
      "2016-01-02 00:00:00  40.756642 -73.988372   371.416604  \n",
      "2016-01-02 00:00:00  40.790529 -73.973805   887.966616  \n",
      "2016-01-02 00:01:00  40.714137 -73.996142  1604.812025  \n",
      "2016-01-02 00:05:00  40.832111 -73.948294  1164.668311  \n"
     ]
    }
   ],
   "source": [
    "complaints_10 = complaints_10.sort_index()\n",
    "print(complaints_10.head())"
   ]
  },
  {
   "cell_type": "code",
   "execution_count": 32,
   "metadata": {
    "collapsed": true
   },
   "outputs": [],
   "source": [
    "#export df to use in future analysis\n",
    "complaints_10.to_csv('crime_complaints.csv')"
   ]
  }
 ],
 "metadata": {
  "kernelspec": {
   "display_name": "Python 3",
   "language": "python",
   "name": "python3"
  },
  "language_info": {
   "codemirror_mode": {
    "name": "ipython",
    "version": 3
   },
   "file_extension": ".py",
   "mimetype": "text/x-python",
   "name": "python",
   "nbconvert_exporter": "python",
   "pygments_lexer": "ipython3",
   "version": "3.6.1"
  }
 },
 "nbformat": 4,
 "nbformat_minor": 2
}
