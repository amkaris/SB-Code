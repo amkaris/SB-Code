{
 "cells": [
  {
   "cell_type": "code",
   "execution_count": 1,
   "metadata": {
    "collapsed": true
   },
   "outputs": [],
   "source": [
    "import pandas as pd\n",
    "import pyproj\n",
    "import numpy as np\n",
    "import datetime"
   ]
  },
  {
   "cell_type": "code",
   "execution_count": 2,
   "metadata": {
    "collapsed": true
   },
   "outputs": [],
   "source": [
    "complaints = pd.read_csv('NYPD_Complaint_Map_Historic_.csv', usecols=(0, 1, 2, 7, 10, 19, 20, 21, 22), thousands=',' )\n",
    "subways = pd.read_csv('NYC_Subway_Entrances.csv')"
   ]
  },
  {
   "cell_type": "code",
   "execution_count": 3,
   "metadata": {},
   "outputs": [
    {
     "name": "stdout",
     "output_type": "stream",
     "text": [
      "<class 'pandas.core.frame.DataFrame'>\n",
      "RangeIndex: 5580035 entries, 0 to 5580034\n",
      "Data columns (total 9 columns):\n",
      "CMPLNT_NUM          int64\n",
      "CMPLNT_FR_DT        object\n",
      "CMPLNT_FR_TM        object\n",
      "OFNS_DESC           object\n",
      "CRM_ATPT_CPTD_CD    object\n",
      "X_COORD_CD          float64\n",
      "Y_COORD_CD          float64\n",
      "Latitude            float64\n",
      "Longitude           float64\n",
      "dtypes: float64(4), int64(1), object(4)\n",
      "memory usage: 383.2+ MB\n",
      "None\n",
      "-----------------------------\n",
      "   CMPLNT_NUM CMPLNT_FR_DT CMPLNT_FR_TM OFNS_DESC CRM_ATPT_CPTD_CD  \\\n",
      "0   101109527   12/31/2015     23:45:00   FORGERY        COMPLETED   \n",
      "\n",
      "   X_COORD_CD  Y_COORD_CD   Latitude  Longitude  \n",
      "0   1007314.0    241257.0  40.828848 -73.916661  \n"
     ]
    }
   ],
   "source": [
    "print(complaints.info())\n",
    "print('-----------------------------')\n",
    "print(complaints.head(1))"
   ]
  },
  {
   "cell_type": "code",
   "execution_count": 4,
   "metadata": {},
   "outputs": [
    {
     "name": "stdout",
     "output_type": "stream",
     "text": [
      "<class 'pandas.core.frame.DataFrame'>\n",
      "RangeIndex: 5580035 entries, 0 to 5580034\n",
      "Data columns (total 9 columns):\n",
      "CMPLNT_NUM          int64\n",
      "CMPLNT_FR_DT        datetime64[ns]\n",
      "CMPLNT_FR_TM        timedelta64[ns]\n",
      "OFNS_DESC           object\n",
      "CRM_ATPT_CPTD_CD    object\n",
      "X_COORD_CD          float64\n",
      "Y_COORD_CD          float64\n",
      "Latitude            float64\n",
      "Longitude           float64\n",
      "dtypes: datetime64[ns](1), float64(4), int64(1), object(2), timedelta64[ns](1)\n",
      "memory usage: 383.2+ MB\n",
      "None\n",
      "   CMPLNT_NUM CMPLNT_FR_DT CMPLNT_FR_TM OFNS_DESC CRM_ATPT_CPTD_CD  \\\n",
      "0   101109527   2015-12-31     23:45:00   FORGERY        COMPLETED   \n",
      "\n",
      "   X_COORD_CD  Y_COORD_CD   Latitude  Longitude  \n",
      "0   1007314.0    241257.0  40.828848 -73.916661  \n"
     ]
    }
   ],
   "source": [
    "complaints['CMPLNT_FR_DT'] = pd.to_datetime(complaints['CMPLNT_FR_DT'], format = '%m/%d/%Y', errors='coerce' )\n",
    "complaints['CMPLNT_FR_TM'] = pd.to_timedelta(complaints['CMPLNT_FR_TM'], errors='coerce' )\n",
    "print(complaints.info())\n",
    "print(complaints.head(1))"
   ]
  },
  {
   "cell_type": "code",
   "execution_count": 5,
   "metadata": {},
   "outputs": [
    {
     "name": "stdout",
     "output_type": "stream",
     "text": [
      "0\n",
      "684\n",
      "48\n",
      "18892\n",
      "7\n",
      "195868\n",
      "195868\n",
      "195868\n",
      "195868\n"
     ]
    }
   ],
   "source": [
    "for col in complaints:\n",
    "    print(complaints[col].isnull().values.sum())"
   ]
  },
  {
   "cell_type": "code",
   "execution_count": 6,
   "metadata": {},
   "outputs": [
    {
     "name": "stdout",
     "output_type": "stream",
     "text": [
      "0\n",
      "661\n",
      "46\n",
      "18152\n",
      "6\n",
      "0\n",
      "0\n",
      "0\n",
      "0\n",
      "--------------------\n",
      "<class 'pandas.core.frame.DataFrame'>\n",
      "Int64Index: 5384167 entries, 0 to 5580034\n",
      "Data columns (total 9 columns):\n",
      "CMPLNT_NUM          int64\n",
      "CMPLNT_FR_DT        datetime64[ns]\n",
      "CMPLNT_FR_TM        timedelta64[ns]\n",
      "OFNS_DESC           object\n",
      "CRM_ATPT_CPTD_CD    object\n",
      "X_COORD_CD          float64\n",
      "Y_COORD_CD          float64\n",
      "Latitude            float64\n",
      "Longitude           float64\n",
      "dtypes: datetime64[ns](1), float64(4), int64(1), object(2), timedelta64[ns](1)\n",
      "memory usage: 410.8+ MB\n",
      "None\n",
      "   X_COORD_CD  Y_COORD_CD\n",
      "0   1007314.0    241257.0\n",
      "1   1043991.0    193406.0\n",
      "2    999463.0    231690.0\n",
      "3   1060183.0    177862.0\n",
      "4    987606.0    208148.0\n"
     ]
    }
   ],
   "source": [
    "complaints = complaints.dropna(subset=[['X_COORD_CD', 'Y_COORD_CD', 'Latitude', 'Longitude']])\n",
    "for col in complaints:\n",
    "    print(complaints[col].isnull().values.sum())\n",
    "print('--------------------')\n",
    "print(complaints.info())\n",
    "print(complaints[['X_COORD_CD', 'Y_COORD_CD']].head(5))"
   ]
  },
  {
   "cell_type": "code",
   "execution_count": 7,
   "metadata": {
    "scrolled": true
   },
   "outputs": [
    {
     "name": "stdout",
     "output_type": "stream",
     "text": [
      "<class 'pandas.core.frame.DataFrame'>\n",
      "Int64Index: 458831 entries, 5101461 to 5578367\n",
      "Data columns (total 9 columns):\n",
      "CMPLNT_NUM          458831 non-null int64\n",
      "CMPLNT_FR_DT        458831 non-null datetime64[ns]\n",
      "CMPLNT_FR_TM        458831 non-null timedelta64[ns]\n",
      "OFNS_DESC           458782 non-null object\n",
      "CRM_ATPT_CPTD_CD    458831 non-null object\n",
      "X_COORD_CD          458831 non-null float64\n",
      "Y_COORD_CD          458831 non-null float64\n",
      "Latitude            458831 non-null float64\n",
      "Longitude           458831 non-null float64\n",
      "dtypes: datetime64[ns](1), float64(4), int64(1), object(2), timedelta64[ns](1)\n",
      "memory usage: 35.0+ MB\n",
      "None\n"
     ]
    }
   ],
   "source": [
    "#Now to reduce entries even further so there are not roughly 5.4 million. Let's focus on the top 10 crime types from 2016.\n",
    "complaints_2016 = complaints[(complaints['CMPLNT_FR_DT'] > datetime.date(2016,1,1)) & (complaints['CMPLNT_FR_DT'] \n",
    "                             < datetime.date(2016,12,31))]\n",
    "print(complaints_2016.info())"
   ]
  },
  {
   "cell_type": "code",
   "execution_count": 8,
   "metadata": {
    "scrolled": true
   },
   "outputs": [
    {
     "name": "stdout",
     "output_type": "stream",
     "text": [
      "PETIT LARCENY                           79479\n",
      "HARRASSMENT 2                           64618\n",
      "ASSAULT 3 & RELATED OFFENSES            51774\n",
      "CRIMINAL MISCHIEF & RELATED OF          47310\n",
      "GRAND LARCENY                           41872\n",
      "DANGEROUS DRUGS                         22529\n",
      "OFF. AGNST PUB ORD SENSBLTY &           21895\n",
      "FELONY ASSAULT                          20511\n",
      "ROBBERY                                 15354\n",
      "MISCELLANEOUS PENAL LAW                 13573\n",
      "BURGLARY                                12791\n",
      "DANGEROUS WEAPONS                       10384\n",
      "OFFENSES AGAINST PUBLIC ADMINI           8782\n",
      "VEHICLE AND TRAFFIC LAWS                 6533\n",
      "GRAND LARCENY OF MOTOR VEHICLE           6222\n",
      "FORGERY                                  5997\n",
      "INTOXICATED & IMPAIRED DRIVING           5862\n",
      "THEFT-FRAUD                              3913\n",
      "CRIMINAL TRESPASS                        3899\n",
      "FRAUDS                                   3044\n",
      "OTHER OFFENSES RELATED TO THEF           1700\n",
      "UNAUTHORIZED USE OF A VEHICLE            1682\n",
      "POSSESSION OF STOLEN PROPERTY            1672\n",
      "OFFENSES INVOLVING FRAUD                 1226\n",
      "OFFENSES AGAINST THE PERSON              1209\n",
      "ADMINISTRATIVE CODE                       989\n",
      "ARSON                                     743\n",
      "NYS LAWS-UNCLASSIFIED FELONY              534\n",
      "THEFT OF SERVICES                         442\n",
      "MURDER & NON-NEGL. MANSLAUGHTER           311\n",
      "                                        ...  \n",
      "BURGLAR'S TOOLS                           261\n",
      "OTHER STATE LAWS (NON PENAL LA            229\n",
      "FRAUDULENT ACCOSTING                      211\n",
      "AGRICULTURE & MRKTS LAW-UNCLASSIFIED      133\n",
      "KIDNAPPING & RELATED OFFENSES             132\n",
      "PROSTITUTION & RELATED OFFENSES           117\n",
      "OFFENSES RELATED TO CHILDREN              107\n",
      "ALCOHOLIC BEVERAGE CONTROL LAW             96\n",
      "DISORDERLY CONDUCT                         71\n",
      "OFFENSES AGAINST PUBLIC SAFETY             55\n",
      "JOSTLING                                   49\n",
      "SEX CRIMES                                 38\n",
      "PETIT LARCENY OF MOTOR VEHICLE             36\n",
      "ENDAN WELFARE INCOMP                       29\n",
      "CHILD ABANDONMENT/NON SUPPORT              21\n",
      "OTHER STATE LAWS                           19\n",
      "NYS LAWS-UNCLASSIFIED VIOLATION            14\n",
      "LOITERING/GAMBLING (CARDS, DIC             10\n",
      "ESCAPE 3                                    8\n",
      "KIDNAPPING                                  7\n",
      "NEW YORK CITY HEALTH CODE                   4\n",
      "OTHER STATE LAWS (NON PENAL LAW)            4\n",
      "HOMICIDE-NEGLIGENT,UNCLASSIFIE              3\n",
      "UNLAWFUL POSS. WEAP. ON SCHOOL              3\n",
      "DISRUPTION OF A RELIGIOUS SERV              2\n",
      "ANTICIPATORY OFFENSES                       2\n",
      "LOITERING                                   1\n",
      "ADMINISTRATIVE CODES                        1\n",
      "INTOXICATED/IMPAIRED DRIVING                1\n",
      "HOMICIDE-NEGLIGENT-VEHICLE                  1\n",
      "Name: OFNS_DESC, Length: 61, dtype: int64\n"
     ]
    }
   ],
   "source": [
    "print(complaints_2016['OFNS_DESC'].value_counts())"
   ]
  },
  {
   "cell_type": "code",
   "execution_count": 9,
   "metadata": {},
   "outputs": [
    {
     "name": "stdout",
     "output_type": "stream",
     "text": [
      "<class 'pandas.core.frame.DataFrame'>\n",
      "Int64Index: 365342 entries, 5101461 to 5578367\n",
      "Data columns (total 9 columns):\n",
      "CMPLNT_NUM          365342 non-null int64\n",
      "CMPLNT_FR_DT        365342 non-null datetime64[ns]\n",
      "CMPLNT_FR_TM        365342 non-null timedelta64[ns]\n",
      "OFNS_DESC           365342 non-null object\n",
      "CRM_ATPT_CPTD_CD    365342 non-null object\n",
      "X_COORD_CD          365342 non-null float64\n",
      "Y_COORD_CD          365342 non-null float64\n",
      "Latitude            365342 non-null float64\n",
      "Longitude           365342 non-null float64\n",
      "dtypes: datetime64[ns](1), float64(4), int64(1), object(2), timedelta64[ns](1)\n",
      "memory usage: 27.9+ MB\n",
      "None\n",
      "     index  CMPLNT_NUM CMPLNT_FR_DT CMPLNT_FR_TM      OFNS_DESC  \\\n",
      "0  5101461   252907137   2016-12-30     18:45:00  HARRASSMENT 2   \n",
      "1  5101607   777218175   2016-12-30     18:50:00        ROBBERY   \n",
      "\n",
      "  CRM_ATPT_CPTD_CD  X_COORD_CD  Y_COORD_CD   Latitude  Longitude  \n",
      "0        COMPLETED   1026014.0    255772.0  40.868619 -73.849000  \n",
      "1        COMPLETED   1009305.0    244306.0  40.837212 -73.909455  \n"
     ]
    }
   ],
   "source": [
    "#Let's only use the top 9 offenses for this study since 10 is a non-specific crime.\n",
    "list_9 = ['PETIT LARCENY', 'HARRASSMENT 2', 'ASSAULT 3 & RELATED OFFENSES', 'CRIMINAL MISCHIEF & RELATED OF', \n",
    "           'GRAND LARCENY', 'DANGEROUS DRUGS', 'OFF. AGNST PUB ORD SENSBLTY &', 'FELONY ASSAULT', 'ROBBERY']\n",
    "complaints_9 = complaints_2016[complaints_2016.OFNS_DESC.isin(list_9)]\n",
    "\n",
    "print(complaints_9.info())\n",
    "\n",
    "#Let's reset the index of the crimes so it starts at 0\n",
    "complaints_9 = complaints_9.reset_index()\n",
    "\n",
    "print(complaints_9.head(2))"
   ]
  },
  {
   "cell_type": "code",
   "execution_count": 10,
   "metadata": {},
   "outputs": [
    {
     "name": "stdout",
     "output_type": "stream",
     "text": [
      "<class 'pandas.core.frame.DataFrame'>\n",
      "RangeIndex: 1928 entries, 0 to 1927\n",
      "Data columns (total 5 columns):\n",
      "OBJECTID    1928 non-null int64\n",
      "URL         1928 non-null object\n",
      "NAME        1899 non-null object\n",
      "the_geom    1928 non-null object\n",
      "LINE        1928 non-null object\n",
      "dtypes: int64(1), object(4)\n",
      "memory usage: 75.4+ KB\n",
      "None\n",
      "-----------------------------\n",
      "   OBJECTID                                URL  \\\n",
      "0      1734  http://web.mta.info/nyct/service/   \n",
      "\n",
      "                                      NAME  \\\n",
      "0  Birchall Ave & Sagamore St at NW corner   \n",
      "\n",
      "                                       the_geom LINE  \n",
      "0  POINT (-73.86835600032798 40.84916900104506)  2-5  \n"
     ]
    }
   ],
   "source": [
    "print(subways.info())\n",
    "print('-----------------------------')\n",
    "print(subways.head(1))"
   ]
  },
  {
   "cell_type": "code",
   "execution_count": 11,
   "metadata": {},
   "outputs": [
    {
     "name": "stdout",
     "output_type": "stream",
     "text": [
      "<class 'pandas.core.frame.DataFrame'>\n",
      "RangeIndex: 1928 entries, 0 to 1927\n",
      "Data columns (total 2 columns):\n",
      "ID      1928 non-null int64\n",
      "geom    1928 non-null object\n",
      "dtypes: int64(1), object(1)\n",
      "memory usage: 30.2+ KB\n",
      "None\n"
     ]
    }
   ],
   "source": [
    "subways_loc = pd.DataFrame(columns=['ID', 'geom'])\n",
    "subways_loc[['ID', 'geom']] = subways[['OBJECTID', 'the_geom']]\n",
    "print (subways_loc.info())"
   ]
  },
  {
   "cell_type": "code",
   "execution_count": 12,
   "metadata": {},
   "outputs": [
    {
     "name": "stdout",
     "output_type": "stream",
     "text": [
      "   point            Longitude            Latitude\n",
      "0  POINT  (-73.86835600032798  40.84916900104506)\n"
     ]
    }
   ],
   "source": [
    "subways_loc = pd.DataFrame(subways_loc.geom.str.split(' ').tolist(),\n",
    "                                   columns = ['point','Longitude', 'Latitude'])\n",
    "print (subways_loc.head(1))"
   ]
  },
  {
   "cell_type": "code",
   "execution_count": 13,
   "metadata": {},
   "outputs": [
    {
     "name": "stdout",
     "output_type": "stream",
     "text": [
      "   point           Longitude           Latitude\n",
      "0  POINT  -73.86835600032798  40.84916900104506\n"
     ]
    }
   ],
   "source": [
    "subways_loc['Longitude'] = subways_loc['Longitude'].map(lambda x: str(x)[1:])\n",
    "subways_loc['Latitude'] = subways_loc['Latitude'].map(lambda x: str(x)[:-1])\n",
    "print (subways_loc.head(1))"
   ]
  },
  {
   "cell_type": "code",
   "execution_count": 14,
   "metadata": {},
   "outputs": [
    {
     "name": "stdout",
     "output_type": "stream",
     "text": [
      "<class 'pandas.core.frame.DataFrame'>\n",
      "RangeIndex: 1928 entries, 0 to 1927\n",
      "Data columns (total 2 columns):\n",
      "Latitude     1928 non-null float64\n",
      "Longitude    1928 non-null float64\n",
      "dtypes: float64(2)\n",
      "memory usage: 30.2 KB\n",
      "None\n"
     ]
    }
   ],
   "source": [
    "subways_loc = subways_loc[['Latitude', 'Longitude']]\n",
    "subways_loc[['Latitude', 'Longitude']] = subways_loc[['Latitude', 'Longitude']].astype(float)\n",
    "print (subways_loc.info())"
   ]
  },
  {
   "cell_type": "code",
   "execution_count": 15,
   "metadata": {
    "collapsed": true
   },
   "outputs": [],
   "source": [
    "WGS84_Z18 = pyproj.Proj(init = \"EPSG:4326\", preserve_units=True)\n",
    "NYS_LIZ = pyproj.Proj(init = \"ESRI:102718\", preserve_units=True)"
   ]
  },
  {
   "cell_type": "code",
   "execution_count": 16,
   "metadata": {},
   "outputs": [
    {
     "name": "stdout",
     "output_type": "stream",
     "text": [
      "    Latitude  Longitude             x              y\n",
      "0  40.849169 -73.868356  1.020671e+06  248679.990550\n",
      "1  40.849128 -73.868213  1.020710e+06  248665.112299\n",
      "2  40.841223 -73.873499  1.019252e+06  245782.869704\n",
      "3  40.841453 -73.872892  1.019420e+06  245866.910219\n",
      "4  40.840815 -73.879623  1.017558e+06  245631.832277\n",
      "<class 'pandas.core.frame.DataFrame'>\n",
      "RangeIndex: 1928 entries, 0 to 1927\n",
      "Data columns (total 4 columns):\n",
      "Latitude     1928 non-null float64\n",
      "Longitude    1928 non-null float64\n",
      "x            1928 non-null float64\n",
      "y            1928 non-null float64\n",
      "dtypes: float64(4)\n",
      "memory usage: 60.3 KB\n",
      "None\n"
     ]
    }
   ],
   "source": [
    "def coord_transform(df):\n",
    "    x = pd.Series()\n",
    "    y = pd.Series()\n",
    "    for idx, val in enumerate(df['Latitude']):\n",
    "        x1, y1 = pyproj.transform(WGS84_Z18, NYS_LIZ, df['Longitude'][idx], df['Latitude'][idx])\n",
    "        x.set_value(idx, x1)\n",
    "        y.set_value(idx, y1)\n",
    "    df['x'] = x\n",
    "    df['y'] = y\n",
    "    return df\n",
    "    \n",
    "subways_loc_trans = coord_transform(subways_loc)\n",
    "\n",
    "#Check to make sure all entries look correct\n",
    "print(subways_loc_trans.head(5))\n",
    "print(subways_loc_trans.info())"
   ]
  },
  {
   "cell_type": "code",
   "execution_count": 26,
   "metadata": {},
   "outputs": [],
   "source": [
    "split = np.array_split(subways_loc_trans, 20)"
   ]
  },
  {
   "cell_type": "markdown",
   "metadata": {},
   "source": [
    "\n",
    "\n",
    "df1 = pd.DataFrame(index=complaints_9.index.copy(), columns=subways_loc_trans.index.copy())\n",
    "\n",
    "for idx_crime, x_crime in enumerate(complaints_9['X_COORD_CD']):\n",
    "    y_crime = complaints_9['Y_COORD_CD'].iloc[idx_crime]\n",
    "    for idx_subway, x_subway in enumerate(subways_loc_trans['x']):\n",
    "        y_subway = subways_loc_trans['y'].iloc[idx_subway]\n",
    "        dist = np.sqrt((x_crime - x_subway)**2 + (y_crime - y_subway)**2)\n",
    "        df1.iloc[idx_crime, idx_subway] = dist\n",
    "return df1"
   ]
  }
 ],
 "metadata": {
  "kernelspec": {
   "display_name": "Python 3",
   "language": "python",
   "name": "python3"
  },
  "language_info": {
   "codemirror_mode": {
    "name": "ipython",
    "version": 3
   },
   "file_extension": ".py",
   "mimetype": "text/x-python",
   "name": "python",
   "nbconvert_exporter": "python",
   "pygments_lexer": "ipython3",
   "version": "3.6.1"
  }
 },
 "nbformat": 4,
 "nbformat_minor": 2
}
